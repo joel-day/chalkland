{
 "cells": [
  {
   "cell_type": "code",
   "execution_count": 2,
   "id": "9e07e573",
   "metadata": {},
   "outputs": [],
   "source": [
    "from pydantic import BaseModel, Field, field_validator, model_validator, AliasChoices"
   ]
  },
  {
   "cell_type": "code",
   "execution_count": null,
   "id": "98946d05",
   "metadata": {},
   "outputs": [],
   "source": [
    "from pydantic import BaseModel, Field\n",
    "\n",
    "class ProductSubmission(BaseModel):\n",
    "    name: str = Field(..., min_length=2, max_length=50, description=\"Product name\")\n",
    "    price: float = Field(gt=0, lt=10000, description=\"Product price in USD\")\n",
    "    sku: str = Field(regex=r\"^[A-Z]{2}\\d{6}$\", description=\"Stock keeping unit code\")\n",
    "    stock: int = Field(ge=0, default=0, description=\"Available inventory\")\n",
    "    tags: list[str] = Field(default_factory=list)\n",
    "\n",
    "# Validates all constraints\n",
    "product = ProductSubmission(name=\"Laptop\", price=999.99, sku=\"AB123456\", stock=10)"
   ]
  },
  {
   "cell_type": "code",
   "execution_count": null,
   "id": "3c867496",
   "metadata": {},
   "outputs": [],
   "source": [
    "from pydantic import BaseModel, field_validator\n",
    "\n",
    "class Registration(BaseModel):\n",
    "    username: str\n",
    "    password: str\n",
    "    password_confirm: str\n",
    "    \n",
    "    @field_validator('username', mode=\"before\")\n",
    "    @classmethod\n",
    "    def username_alphanumeric(cls, v: str) -> str:\n",
    "        if not v.isalnum():\n",
    "            raise ValueError('Username must be alphanumeric')\n",
    "        return v\n",
    "    \n",
    "    @field_validator('password_confirm')\n",
    "    @classmethod\n",
    "    def passwords_match(cls, v: str, info) -> str:\n",
    "        if v != info.data.get('password'):\n",
    "            raise ValueError('Passwords do not match')\n",
    "        return v\n",
    "\n",
    "# Example usage\n",
    "user = Registration(username=\"john123\", password=\"secret\", password_confirm=\"secret\")"
   ]
  },
  {
   "cell_type": "code",
   "execution_count": null,
   "id": "b1f3bfbc",
   "metadata": {},
   "outputs": [],
   "source": [
    "from pydantic import BaseModel, model_validator\n",
    "from datetime import date\n",
    "\n",
    "class TravelBooking(BaseModel):\n",
    "    departure_date: date\n",
    "    return_date: date\n",
    "    is_one_way: bool = False\n",
    "    \n",
    "    @model_validator(mode='after')\n",
    "    def check_return_date(self) -> 'TravelBooking':\n",
    "        if not self.is_one_way and self.return_date <= self.departure_date:\n",
    "            raise ValueError('Return date must be after departure date for round trips')\n",
    "        if self.is_one_way and self.return_date is not None:\n",
    "            # Normalize the data by removing unneeded return date\n",
    "            self.return_date = None\n",
    "        return self\n",
    "\n",
    "# This will fail validation\n",
    "try:\n",
    "    booking = TravelBooking(\n",
    "        departure_date=date(2023, 5, 1),\n",
    "        return_date=date(2023, 4, 30),\n",
    "        is_one_way=False\n",
    "    )\n",
    "except ValueError as e:\n",
    "    print(f\"Error: {e}\")"
   ]
  },
  {
   "cell_type": "code",
   "execution_count": 4,
   "id": "f0de298b",
   "metadata": {},
   "outputs": [],
   "source": [
    "from pydantic import BaseModel, AliasChoices, Field\n",
    "\n",
    "class ApiResponse(BaseModel):\n",
    "    user_id: int = Field(validation_alias=AliasChoices('userId', 'user_id', 'id'))\n",
    "    full_name: str = Field(validation_alias=AliasChoices('fullName', 'full_name', 'name'))\n",
    "\n",
    "# Works with any of the alias options\n",
    "response1 = ApiResponse(userId=123, fullName=\"John Doe\")\n",
    "response2 = ApiResponse(user_id=456, full_name=\"Jane Smith\")\n",
    "response3 = ApiResponse(id=789, name=\"Alex Johnson\")"
   ]
  },
  {
   "cell_type": "code",
   "execution_count": null,
   "id": "582cc120",
   "metadata": {},
   "outputs": [],
   "source": []
  },
  {
   "cell_type": "code",
   "execution_count": null,
   "id": "ece56097",
   "metadata": {},
   "outputs": [],
   "source": [
    "from pydantic import BaseModel, Field\n",
    "from typing import List\n",
    "from geopy.distance import geodesic  # Optional, if you want distance calculations\n",
    "\n",
    "# Location Model\n",
    "class Coordinates(BaseModel):\n",
    "    latitude: float = Field(..., ge=-90, le=90)\n",
    "    longitude: float = Field(..., ge=-180, le=180)\n",
    "\n",
    "# Player Model\n",
    "class Player(BaseModel):\n",
    "    name: str\n",
    "    location: Coordinates\n",
    "\n",
    "# Team Model\n",
    "class Team(BaseModel):\n",
    "    name: str\n",
    "    location: Coordinates\n",
    "    players: List[Player]\n"
   ]
  },
  {
   "cell_type": "code",
   "execution_count": null,
   "id": "1eb2e97a",
   "metadata": {},
   "outputs": [],
   "source": [
    "team = Team(\n",
    "    name=\"Global Hawks\",\n",
    "    location={\"latitude\": 40.7128, \"longitude\": -74.0060},\n",
    "    players=[\n",
    "        {\"name\": \"Alice\", \"location\": {\"latitude\": 34.0522, \"longitude\": -118.2437}},\n",
    "        {\"name\": \"Bob\", \"location\": {\"latitude\": 51.5074, \"longitude\": -0.1278}},\n",
    "    ]\n",
    ")\n",
    "\n",
    "print(team.json(indent=2))\n"
   ]
  },
  {
   "cell_type": "code",
   "execution_count": null,
   "id": "5bc2a27a",
   "metadata": {},
   "outputs": [],
   "source": [
    "def distance_to_team(player: Player, team: Team) -> float:\n",
    "    return geodesic(\n",
    "        (player.location.latitude, player.location.longitude),\n",
    "        (team.location.latitude, team.location.longitude)\n",
    "    ).kilometers\n",
    "\n",
    "# Example\n",
    "for p in team.players:\n",
    "    print(f\"{p.name} is {distance_to_team(p, team):.2f} km from the team HQ\")\n"
   ]
  },
  {
   "cell_type": "code",
   "execution_count": null,
   "id": "12641a12",
   "metadata": {},
   "outputs": [],
   "source": []
  },
  {
   "cell_type": "code",
   "execution_count": null,
   "id": "b7af69c1",
   "metadata": {},
   "outputs": [],
   "source": [
    "player = Player(name=\"Alex\", age=25)\n",
    "\n",
    "# To JSON\n",
    "player.json()\n",
    "\n",
    "# To dict\n",
    "player.dict()\n"
   ]
  },
  {
   "cell_type": "code",
   "execution_count": null,
   "id": "dec2f37d",
   "metadata": {},
   "outputs": [],
   "source": []
  },
  {
   "cell_type": "code",
   "execution_count": null,
   "id": "ff92504e",
   "metadata": {},
   "outputs": [],
   "source": []
  },
  {
   "cell_type": "code",
   "execution_count": null,
   "id": "c1a0de4b",
   "metadata": {},
   "outputs": [],
   "source": [
    "from pydantic import BaseModel, Field\n",
    "from typing import List\n",
    "\n",
    "class Coordinates(BaseModel):\n",
    "    latitude: float = Field(..., ge=-90, le=90)\n",
    "    longitude: float = Field(..., ge=-180, le=180)\n",
    "\n",
    "class Player(BaseModel):\n",
    "    name: str\n",
    "    location: Coordinates\n",
    "\n",
    "class Team(BaseModel):\n",
    "    name: str\n",
    "    location: Coordinates\n",
    "    players: List[Player]\n"
   ]
  },
  {
   "cell_type": "code",
   "execution_count": null,
   "id": "05dfa191",
   "metadata": {},
   "outputs": [],
   "source": [
    "import pandas as pd\n",
    "from collections import defaultdict\n",
    "\n",
    "# Load data\n",
    "teams_df = pd.read_excel(\"teams.xlsx\", sheet_name=\"Teams\")\n",
    "players_df = pd.read_excel(\"teams.xlsx\", sheet_name=\"Players\")\n",
    "\n",
    "# Group players by team\n",
    "team_players = defaultdict(list)\n",
    "\n",
    "for _, row in players_df.iterrows():\n",
    "    player = Player(\n",
    "        name=row['player_name'],\n",
    "        location=Coordinates(latitude=row['latitude'], longitude=row['longitude'])\n",
    "    )\n",
    "    team_players[row['team_name']].append(player)\n",
    "\n",
    "# Create Team objects\n",
    "team_models = []\n",
    "\n",
    "for _, row in teams_df.iterrows():\n",
    "    team = Team(\n",
    "        name=row['team_name'],\n",
    "        location=Coordinates(latitude=row['latitude'], longitude=row['longitude']),\n",
    "        players=team_players[row['team_name']]\n",
    "    )\n",
    "    team_models.append(team)\n"
   ]
  },
  {
   "cell_type": "code",
   "execution_count": null,
   "id": "da6ff419",
   "metadata": {},
   "outputs": [],
   "source": [
    "import json\n",
    "\n",
    "# Save to file\n",
    "with open(\"teams_data.json\", \"w\") as f:\n",
    "    json.dump([team.dict() for team in team_models], f, indent=2)\n"
   ]
  },
  {
   "cell_type": "code",
   "execution_count": null,
   "id": "306205f8",
   "metadata": {},
   "outputs": [],
   "source": [
    "with open(\"teams_data.json\") as f:\n",
    "    raw = json.load(f)\n",
    "    loaded_teams = [Team(**t) for t in raw]\n"
   ]
  }
 ],
 "metadata": {
  "kernelspec": {
   "display_name": ".venv",
   "language": "python",
   "name": "python3"
  },
  "language_info": {
   "codemirror_mode": {
    "name": "ipython",
    "version": 3
   },
   "file_extension": ".py",
   "mimetype": "text/x-python",
   "name": "python",
   "nbconvert_exporter": "python",
   "pygments_lexer": "ipython3",
   "version": "3.12.9"
  }
 },
 "nbformat": 4,
 "nbformat_minor": 5
}
