{
 "cells": [
  {
   "cell_type": "markdown",
   "id": "1a0002d4",
   "metadata": {},
   "source": [
    "# Make it immersive"
   ]
  },
  {
   "cell_type": "markdown",
   "id": "a7b1724f",
   "metadata": {},
   "source": [
    "https://github.com/arscan/hexasphere.js"
   ]
  },
  {
   "cell_type": "code",
   "execution_count": null,
   "id": "f34158c9",
   "metadata": {},
   "outputs": [],
   "source": []
  },
  {
   "cell_type": "code",
   "execution_count": 1,
   "id": "cca9f6b3",
   "metadata": {},
   "outputs": [],
   "source": [
    "from IPython.display import Javascript"
   ]
  },
  {
   "cell_type": "code",
   "execution_count": null,
   "id": "f99ff649",
   "metadata": {},
   "outputs": [
    {
     "data": {
      "application/javascript": "\n           alert(var radius = 15;        // Radius used to calculate position of tiles\nvar subDivisions = 5;   // Divide each edge of the icosohedron into this many segments\nvar tileWidth = 0.9;    // Add padding (1.0 = no padding; 0.1 = mostly padding)\n\nvar hexasphere = new Hexasphere(radius, subDivisions, tileWidth);\nfor(var i = 0; i< hexasphere.tiles.length; i++){\n   // hexasphere.tiles[i].centerPoint contains x,y,z of the tile\n   // hexasphere.tiles[i].boundary contains an ordered array of the boundary points\n   // hexasphere.tiles[i].neighbors contains a list of all the neighboring tiles\n}')",
      "text/plain": [
       "<IPython.core.display.Javascript object>"
      ]
     },
     "execution_count": 2,
     "metadata": {},
     "output_type": "execute_result"
    }
   ],
   "source": [
    "Javascript(\"\"\"\n",
    "alert(var radius = 15;        // Radius used to calculate position of tiles\n",
    "var subDivisions = 5;   // Divide each edge of the icosohedron into this many segments\n",
    "var tileWidth = 0.9;    // Add padding (1.0 = no padding; 0.1 = mostly padding)\n",
    "\n",
    "var hexasphere = new Hexasphere(radius, subDivisions, tileWidth);\n",
    "for(var i = 0; i< hexasphere.tiles.length; i++){\n",
    "   // hexasphere.tiles[i].centerPoint contains x,y,z of the tile\n",
    "   // hexasphere.tiles[i].boundary contains an ordered array of the boundary points\n",
    "   // hexasphere.tiles[i].neighbors contains a list of all the neighboring tiles\n",
    "}')\n",
    "\"\"\")"
   ]
  },
  {
   "cell_type": "code",
   "execution_count": 3,
   "id": "c9552075",
   "metadata": {},
   "outputs": [
    {
     "data": {
      "application/javascript": "\nalert('hexasphere\n\n           ')\n",
      "text/plain": [
       "<IPython.core.display.Javascript object>"
      ]
     },
     "execution_count": 3,
     "metadata": {},
     "output_type": "execute_result"
    }
   ],
   "source": [
    "Javascript(\"\"\"\n",
    "alert('hexasphere\n",
    "           \n",
    "           ')\n",
    "\"\"\")\n"
   ]
  },
  {
   "cell_type": "code",
   "execution_count": null,
   "id": "128af929",
   "metadata": {},
   "outputs": [],
   "source": []
  }
 ],
 "metadata": {
  "kernelspec": {
   "display_name": "Python 3",
   "language": "python",
   "name": "python3"
  },
  "language_info": {
   "codemirror_mode": {
    "name": "ipython",
    "version": 3
   },
   "file_extension": ".py",
   "mimetype": "text/x-python",
   "name": "python",
   "nbconvert_exporter": "python",
   "pygments_lexer": "ipython3",
   "version": "3.12.9"
  }
 },
 "nbformat": 4,
 "nbformat_minor": 5
}
